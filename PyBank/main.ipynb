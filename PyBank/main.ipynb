{
 "cells": [
  {
   "cell_type": "code",
   "execution_count": 1,
   "metadata": {},
   "outputs": [],
   "source": [
    "# Imported the pathlib\n",
    "import pandas as pd\n",
    "from pathlib import Path\n",
    "\n",
    "# Importing the csv library\n",
    "import csv\n",
    "\n",
    "# Setting the Path\n",
    "csvpath = Path(\"budget_data.csv\", index_col=\"Date\")"
   ]
  },
  {
   "cell_type": "code",
   "execution_count": 2,
   "metadata": {},
   "outputs": [],
   "source": [
    "# Intialized the dictionary\n",
    "analysis = {}"
   ]
  },
  {
   "cell_type": "code",
   "execution_count": null,
   "metadata": {},
   "outputs": [],
   "source": [
    "# Opening the csv file\n",
    "Total_Difference = 0\n",
    "Total_Months = 0\n",
    "Total_Profit = 0\n",
    "Max_Profit = 0\n",
    "Averge_Change = 0\n",
    "Greatest_Increase = 0\n",
    "Greatest_Decrease = 0\n",
    "with open(csvpath, \"r\") as csvfile:\n",
    "    reader = csv.reader(csvfile, delimiter=\",\")\n",
    "# Setting the header\n",
    "    csv_header = next(reader)\n",
    "    Previous_Month = next(reader)[1]\n",
    "    print(csv_header)\n",
    "# Started a for loop     \n",
    "    for row in reader:\n",
    "        Total_Months += 1\n",
    "        print(row)\n",
    "        for row in reader:\n",
    "            Date = row [0]\n",
    "            Profit_Losses = int(row [1])\n",
    "            Total_Difference += ('Profit_Losses' - 'Previous_Month')\n",
    "            Previous_Month = Profit_Losses\n",
    "            if Previous_Month > Total_Difference\n",
    "                Print(Max_Profit)"
   ]
  },
  {
   "cell_type": "code",
   "execution_count": null,
   "metadata": {},
   "outputs": [],
   "source": []
  },
  {
   "cell_type": "code",
   "execution_count": null,
   "metadata": {},
   "outputs": [],
   "source": []
  }
 ],
 "metadata": {
  "kernelspec": {
   "display_name": "Python 3",
   "language": "python",
   "name": "python3"
  },
  "language_info": {
   "codemirror_mode": {
    "name": "ipython",
    "version": 3
   },
   "file_extension": ".py",
   "mimetype": "text/x-python",
   "name": "python",
   "nbconvert_exporter": "python",
   "pygments_lexer": "ipython3",
   "version": "3.7.9"
  }
 },
 "nbformat": 4,
 "nbformat_minor": 4
}
