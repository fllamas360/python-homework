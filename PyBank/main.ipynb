{
 "cells": [
  {
   "cell_type": "code",
   "execution_count": 1,
   "metadata": {},
   "outputs": [],
   "source": [
    "# Imported the pathlib\n",
    "from pathlib import Path\n",
    "\n",
    "# Importing the csv library\n",
    "import csv\n",
    "\n",
    "# Setting the Path\n",
    "csvpath = Path(\"budget_data.csv\")"
   ]
  },
  {
   "cell_type": "code",
   "execution_count": 2,
   "metadata": {},
   "outputs": [],
   "source": [
    "# Intialized the dictionary\n",
    "analysis = {}"
   ]
  },
  {
   "cell_type": "code",
   "execution_count": 3,
   "metadata": {},
   "outputs": [
    {
     "name": "stdout",
     "output_type": "stream",
     "text": [
      "['Date', 'Profit/Losses']\n",
      "['Feb-2010', '984655']\n"
     ]
    },
    {
     "ename": "TypeError",
     "evalue": "unsupported operand type(s) for -: 'int' and 'str'",
     "output_type": "error",
     "traceback": [
      "\u001b[0;31m---------------------------------------------------------------------------\u001b[0m",
      "\u001b[0;31mTypeError\u001b[0m                                 Traceback (most recent call last)",
      "\u001b[0;32m<ipython-input-3-eaf4997a7307>\u001b[0m in \u001b[0;36m<module>\u001b[0;34m\u001b[0m\n\u001b[1;32m     21\u001b[0m             \u001b[0mDate\u001b[0m \u001b[0;34m=\u001b[0m \u001b[0mrow\u001b[0m \u001b[0;34m[\u001b[0m\u001b[0;36m0\u001b[0m\u001b[0;34m]\u001b[0m\u001b[0;34m\u001b[0m\u001b[0;34m\u001b[0m\u001b[0m\n\u001b[1;32m     22\u001b[0m             \u001b[0mprofit_losses\u001b[0m \u001b[0;34m=\u001b[0m \u001b[0mint\u001b[0m\u001b[0;34m(\u001b[0m\u001b[0mrow\u001b[0m \u001b[0;34m[\u001b[0m\u001b[0;36m1\u001b[0m\u001b[0;34m]\u001b[0m\u001b[0;34m)\u001b[0m\u001b[0;34m\u001b[0m\u001b[0;34m\u001b[0m\u001b[0m\n\u001b[0;32m---> 23\u001b[0;31m             \u001b[0mtotal_difference\u001b[0m \u001b[0;34m+=\u001b[0m \u001b[0;34m(\u001b[0m\u001b[0mprofit_losses\u001b[0m \u001b[0;34m-\u001b[0m \u001b[0mprevious_month\u001b[0m\u001b[0;34m)\u001b[0m\u001b[0;34m\u001b[0m\u001b[0;34m\u001b[0m\u001b[0m\n\u001b[0m\u001b[1;32m     24\u001b[0m             \u001b[0mprevious_month\u001b[0m \u001b[0;34m=\u001b[0m \u001b[0mprofit_losses\u001b[0m\u001b[0;34m\u001b[0m\u001b[0;34m\u001b[0m\u001b[0m\n\u001b[1;32m     25\u001b[0m             \u001b[0;32mif\u001b[0m \u001b[0mprevious_month\u001b[0m \u001b[0;34m>\u001b[0m \u001b[0mtotal_difference\u001b[0m\u001b[0;34m:\u001b[0m\u001b[0;34m\u001b[0m\u001b[0;34m\u001b[0m\u001b[0m\n",
      "\u001b[0;31mTypeError\u001b[0m: unsupported operand type(s) for -: 'int' and 'str'"
     ]
    }
   ],
   "source": [
    "# Opening the csv file\n",
    "total_difference = 0\n",
    "total_months = 0\n",
    "total_profit = 0\n",
    "max_profit = 0\n",
    "min_profit = 0\n",
    "average_change = 0\n",
    "greatest_increase = 0\n",
    "greatest_decrease = 0\n",
    "with open(csvpath, \"r\") as csvfile:\n",
    "    reader = csv.reader(csvfile, delimiter=\",\")\n",
    "# Setting the header\n",
    "    csv_header = next(reader)\n",
    "    previous_month = next(reader)[1]\n",
    "    print(csv_header)\n",
    "# Started a for loop     \n",
    "    for row in reader:\n",
    "        total_months += 1\n",
    "        print(row)\n",
    "        for row in reader:\n",
    "            Date = row [0]\n",
    "            profit_losses = int(row [1])\n",
    "            total_difference += (profit_losses - previous_month)\n",
    "            previous_month = profit_losses\n",
    "            if previous_month > total_difference:\n",
    "                print(max_profit)\n",
    "            elif previous_month < total_difference:\n",
    "                print(min_profit)\n",
    "            else:\n",
    "                print(previous_month)\n",
    "            \n",
    "            average = round(profit_losses - total_months / count, 2)"
   ]
  },
  {
   "cell_type": "code",
   "execution_count": 6,
   "metadata": {},
   "outputs": [],
   "source": [
    "# Set the path to write to a text file\n",
    "output = Path(\"output.csv\")\n",
    "\n",
    "with open(output,\"w\") as csvfile:\n",
    "    csvwriter = csv.writer(csvfile, delimiter=',')"
   ]
  },
  {
   "cell_type": "code",
   "execution_count": 7,
   "metadata": {},
   "outputs": [
    {
     "name": "stdout",
     "output_type": "stream",
     "text": [
      "Analysis\n",
      "Total Months : 1\n",
      "Total : 0\n",
      "Average Change : $- 0\n",
      "Greatest Increase in Profits : 0\n",
      "Greatest Decrease in Profits : 0\n"
     ]
    }
   ],
   "source": [
    "# Printing the results\n",
    "print(\"Analysis\")\n",
    "print(\"Total Months\", \":\" , total_months)\n",
    "print(\"Total\" , \":\" , total_profit)\n",
    "print(\"Average Change\", \":\" , \"$-\", average_change)\n",
    "print(\"Greatest Increase in Profits\" , \":\" , greatest_increase)\n",
    "print(\"Greatest Decrease in Profits\", \":\" , greatest_decrease)"
   ]
  },
  {
   "cell_type": "code",
   "execution_count": null,
   "metadata": {},
   "outputs": [],
   "source": []
  }
 ],
 "metadata": {
  "kernelspec": {
   "display_name": "Python 3",
   "language": "python",
   "name": "python3"
  },
  "language_info": {
   "codemirror_mode": {
    "name": "ipython",
    "version": 3
   },
   "file_extension": ".py",
   "mimetype": "text/x-python",
   "name": "python",
   "nbconvert_exporter": "python",
   "pygments_lexer": "ipython3",
   "version": "3.7.9"
  }
 },
 "nbformat": 4,
 "nbformat_minor": 4
}
